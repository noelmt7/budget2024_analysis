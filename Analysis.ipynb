{
 "cells": [
  {
   "cell_type": "code",
   "execution_count": 1,
   "metadata": {},
   "outputs": [],
   "source": [
    "import pandas as pd\n",
    "import numpy as np \n",
    "import matplotlib.pyplot as plt\n"
   ]
  },
  {
   "cell_type": "code",
   "execution_count": 3,
   "metadata": {},
   "outputs": [],
   "source": [
    "consumer_df = pd.read_csv(r'D:\\SEM4\\ADA_ETE\\consumer_opinions_budget2024.csv')\n",
    "producer_df = pd.read_csv(r'D:\\SEM4\\ADA_ETE\\producer_opinions_budget2024.csv')"
   ]
  },
  {
   "cell_type": "code",
   "execution_count": 4,
   "metadata": {},
   "outputs": [
    {
     "data": {
      "text/html": [
       "<div>\n",
       "<style scoped>\n",
       "    .dataframe tbody tr th:only-of-type {\n",
       "        vertical-align: middle;\n",
       "    }\n",
       "\n",
       "    .dataframe tbody tr th {\n",
       "        vertical-align: top;\n",
       "    }\n",
       "\n",
       "    .dataframe thead th {\n",
       "        text-align: right;\n",
       "    }\n",
       "</style>\n",
       "<table border=\"1\" class=\"dataframe\">\n",
       "  <thead>\n",
       "    <tr style=\"text-align: right;\">\n",
       "      <th></th>\n",
       "      <th>opinion_id</th>\n",
       "      <th>name</th>\n",
       "      <th>age</th>\n",
       "      <th>gender</th>\n",
       "      <th>location</th>\n",
       "      <th>opinion</th>\n",
       "      <th>sentiment</th>\n",
       "    </tr>\n",
       "  </thead>\n",
       "  <tbody>\n",
       "    <tr>\n",
       "      <th>61122</th>\n",
       "      <td>372afedd-5737-4e7b-acbf-b4cafa9b847f</td>\n",
       "      <td>Matthew Nichols</td>\n",
       "      <td>49</td>\n",
       "      <td>Male</td>\n",
       "      <td>East Waltertown</td>\n",
       "      <td>It's a well-balanced budget.</td>\n",
       "      <td>Negative</td>\n",
       "    </tr>\n",
       "    <tr>\n",
       "      <th>88451</th>\n",
       "      <td>75c5eb42-33a7-4a2c-a270-dbbd8d37a623</td>\n",
       "      <td>Colin Bailey</td>\n",
       "      <td>29</td>\n",
       "      <td>Female</td>\n",
       "      <td>Georgeland</td>\n",
       "      <td>It's a well-balanced budget.</td>\n",
       "      <td>Neutral</td>\n",
       "    </tr>\n",
       "    <tr>\n",
       "      <th>94942</th>\n",
       "      <td>13482d61-8a7b-4adc-aef4-d5ef7be713cf</td>\n",
       "      <td>Tina Gonzalez</td>\n",
       "      <td>31</td>\n",
       "      <td>Male</td>\n",
       "      <td>Lake Meghanton</td>\n",
       "      <td>The education sector has been neglected.</td>\n",
       "      <td>Negative</td>\n",
       "    </tr>\n",
       "  </tbody>\n",
       "</table>\n",
       "</div>"
      ],
      "text/plain": [
       "                                 opinion_id             name  age  gender  \\\n",
       "61122  372afedd-5737-4e7b-acbf-b4cafa9b847f  Matthew Nichols   49    Male   \n",
       "88451  75c5eb42-33a7-4a2c-a270-dbbd8d37a623     Colin Bailey   29  Female   \n",
       "94942  13482d61-8a7b-4adc-aef4-d5ef7be713cf    Tina Gonzalez   31    Male   \n",
       "\n",
       "              location                                   opinion sentiment  \n",
       "61122  East Waltertown              It's a well-balanced budget.  Negative  \n",
       "88451       Georgeland              It's a well-balanced budget.   Neutral  \n",
       "94942   Lake Meghanton  The education sector has been neglected.  Negative  "
      ]
     },
     "execution_count": 4,
     "metadata": {},
     "output_type": "execute_result"
    }
   ],
   "source": [
    "producer_df.sample(3)\n",
    "consumer_df.sample(3)"
   ]
  },
  {
   "cell_type": "code",
   "execution_count": null,
   "metadata": {},
   "outputs": [],
   "source": []
  }
 ],
 "metadata": {
  "kernelspec": {
   "display_name": "Python 3",
   "language": "python",
   "name": "python3"
  },
  "language_info": {
   "codemirror_mode": {
    "name": "ipython",
    "version": 3
   },
   "file_extension": ".py",
   "mimetype": "text/x-python",
   "name": "python",
   "nbconvert_exporter": "python",
   "pygments_lexer": "ipython3",
   "version": "3.12.5"
  }
 },
 "nbformat": 4,
 "nbformat_minor": 2
}
